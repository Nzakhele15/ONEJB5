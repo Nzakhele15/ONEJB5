{
 "cells": [
  {
   "cell_type": "code",
   "execution_count": null,
   "id": "eec49888-1f96-4729-b134-71a2d8560980",
   "metadata": {},
   "outputs": [],
   "source": [
    "import pandas as pd\n",
    "from sklearn.model_selection import train_test_split\n",
    "from sklearn.ensemble import RandomForestRegressor\n",
    "from sklearn.metrics import mean_squared_error\n",
    "import pickle\n",
    "\n",
    "# Load data\n",
    "train_df = pd.read_csv(r\"C:\\Users\\Zakhele\\Downloads\\ONE\\train.csv\")\n",
    "\n",
    "# Preprocess and train the model\n",
    "X = train_df.drop('rating', axis=1)\n",
    "y = train_df['rating']\n",
    "X_train, X_val, y_train, y_val = train_test_split(X, y, test_size=0.2, random_state=42)\n",
    "\n",
    "model = RandomForestRegressor(n_estimators=100, random_state=42)\n",
    "model.fit(X_train, y_train)\n",
    "\n",
    "# Evaluate the model\n",
    "y_pred = model.predict(X_val)\n",
    "mse = mean_squared_error(y_val, y_pred)\n",
    "print(f\"Model MSE: {mse}\")\n",
    "\n",
    "# Save the model\n",
    "with open(r\"C:\\Users\\Zakhele\\Downloads\\ONE\\anime_recommendation_model.pkl\", \"wb\") as file:\n",
    "    pickle.dump(model, file)\n"
   ]
  },
  {
   "cell_type": "code",
   "execution_count": null,
   "id": "e4c460b2-4c19-4adf-9ffb-2a1859a852cd",
   "metadata": {},
   "outputs": [],
   "source": []
  }
 ],
 "metadata": {
  "kernelspec": {
   "display_name": "Python 3 (ipykernel)",
   "language": "python",
   "name": "python3"
  },
  "language_info": {
   "codemirror_mode": {
    "name": "ipython",
    "version": 3
   },
   "file_extension": ".py",
   "mimetype": "text/x-python",
   "name": "python",
   "nbconvert_exporter": "python",
   "pygments_lexer": "ipython3",
   "version": "3.11.7"
  }
 },
 "nbformat": 4,
 "nbformat_minor": 5
}
