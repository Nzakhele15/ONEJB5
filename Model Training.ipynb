{
 "cells": [
  {
   "cell_type": "code",
   "execution_count": null,
   "id": "3d822759-7850-4c44-9aca-34bf32ffa4c9",
   "metadata": {},
   "outputs": [],
   "source": [
    "# Model_training.ipynb\n",
    "\n",
    "import pandas as pd\n",
    "import numpy as np\n",
    "from sklearn.model_selection import train_test_split\n",
    "from sklearn.ensemble import RandomForestRegressor\n",
    "from sklearn.metrics import mean_squared_error\n",
    "import pickle\n",
    "\n",
    "# Load data\n",
    "anime_df = pd.read_csv(r\"C:\\Users\\Zakhele\\Downloads\\ONE\\anime.csv\")\n",
    "train_df = pd.read_csv(r\"C:\\Users\\Zakhele\\Downloads\\ONE\\train.csv\")\n",
    "test_df = pd.read_csv(r\"C:\\Users\\Zakhele\\Downloads\\ONE\\test.csv\")\n",
    "\n",
    "# Preprocess and train the model\n",
    "X = train_df.drop('rating', axis=1)\n",
    "y = train_df['rating']\n",
    "X_train, X_val, y_train, y_val = train_test_split(X, y, test_size=0.2, random_state=42)\n",
    "\n",
    "model = RandomForestRegressor(n_estimators=100, random_state=42)\n",
    "model.fit(X_train, y_train)\n",
    "\n",
    "# Evaluate the model\n",
    "y_pred = model.predict(X_val)\n",
    "mse = mean_squared_error(y_val, y_pred)\n",
    "print(f\"Model MSE: {mse}\")\n",
    "\n",
    "# Save the model\n",
    "with open('anime_recommendation_model.pkl', 'wb') as file:\n",
    "    pickle.dump(model, file)\n",
    "\n",
    "# Predictions on test set\n",
    "test_pred = model.predict(test_df)\n",
    "print(f\"Test Set Predictions: {test_pred[:5]}\")\n"
   ]
  },
  {
   "cell_type": "code",
   "execution_count": null,
   "id": "94ba18b3-08ac-42f7-85bf-9732fcf58d56",
   "metadata": {},
   "outputs": [],
   "source": []
  }
 ],
 "metadata": {
  "kernelspec": {
   "display_name": "Python 3 (ipykernel)",
   "language": "python",
   "name": "python3"
  },
  "language_info": {
   "codemirror_mode": {
    "name": "ipython",
    "version": 3
   },
   "file_extension": ".py",
   "mimetype": "text/x-python",
   "name": "python",
   "nbconvert_exporter": "python",
   "pygments_lexer": "ipython3",
   "version": "3.11.7"
  }
 },
 "nbformat": 4,
 "nbformat_minor": 5
}
