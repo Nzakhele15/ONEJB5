{
 "cells": [
  {
   "cell_type": "code",
   "execution_count": null,
   "id": "c8494947-6216-40e0-8346-9880c764a4f4",
   "metadata": {},
   "outputs": [],
   "source": [
    "import pandas as pd\n",
    "import numpy as np\n",
    "from sklearn.model_selection import train_test_split\n",
    "from sklearn.ensemble import RandomForestRegressor\n",
    "from sklearn.metrics import mean_squared_error\n",
    "import pickle\n",
    "\n",
    "# Load data\n",
    "anime_df = pd.read_csv(r\"C:\\Users\\Zakhele\\Downloads\\ONE\\anime.csv\")\n",
    "train_df = pd.read_csv(r\"C:\\Users\\Zakhele\\Downloads\\ONE\\train.csv\")\n",
    "test_df = pd.read_csv(r\"C:\\Users\\Zakhele\\Downloads\\ONE\\test.csv\")\n",
    "\n",
    "# Preprocess and prepare training data\n",
    "X = train_df.drop('rating', axis=1)  # Features (all columns except 'rating')\n",
    "y = train_df['rating']  # Target variable (rating)\n",
    "\n",
    "# Split the data into training and validation sets\n",
    "X_train, X_val, y_train, y_val = train_test_split(X, y, test_size=0.2, random_state=42)\n",
    "\n",
    "# Initialize and train the RandomForestRegressor model\n",
    "model = RandomForestRegressor(n_estimators=100, random_state=42)\n",
    "model.fit(X_train, y_train)\n",
    "\n",
    "# Evaluate the model on the validation set\n",
    "y_pred = model.predict(X_val)\n",
    "mse = mean_squared_error(y_val, y_pred)\n",
    "print(f\"Validation Set MSE: {mse}\")\n",
    "\n",
    "# Save the trained model to a file\n",
    "model_path = r\"C:\\Users\\Zakhele\\Downloads\\ONE\\anime_recommendation_model.pkl\"\n",
    "with open(model_path, \"wb\") as file:\n",
    "    pickle.dump(model, file)\n",
    "\n",
    "# Make predictions on the test set\n",
    "test_pred = model.predict(test_df)\n",
    "print(f\"Test Set Predictions: {test_pred[:5]}\")\n"
   ]
  }
 ],
 "metadata": {
  "kernelspec": {
   "display_name": "Python 3 (ipykernel)",
   "language": "python",
   "name": "python3"
  },
  "language_info": {
   "codemirror_mode": {
    "name": "ipython",
    "version": 3
   },
   "file_extension": ".py",
   "mimetype": "text/x-python",
   "name": "python",
   "nbconvert_exporter": "python",
   "pygments_lexer": "ipython3",
   "version": "3.11.7"
  }
 },
 "nbformat": 4,
 "nbformat_minor": 5
}
